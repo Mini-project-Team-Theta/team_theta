{
 "cells": [
  {
   "cell_type": "code",
   "execution_count": 1,
   "metadata": {},
   "outputs": [],
   "source": [
    "import pandas as pd\n",
    "import numpy as np\n",
    "import matplotlib.pyplot as plt\n",
    "import seaborn as sns\n",
    "from sklearn.model_selection import train_test_split\n",
    "from sklearn.preprocessing import PolynomialFeatures\n",
    "from sklearn.linear_model import LinearRegression\n",
    "from sklearn.metrics import mean_squared_error, r2_score\n",
    "from sklearn import linear_model\n",
    "import joblib"
   ]
  },
  {
   "cell_type": "code",
   "execution_count": 2,
   "metadata": {},
   "outputs": [],
   "source": [
    "turku_url = 'https://raw.githubusercontent.com/Mini-project-Team-Theta/team_theta/refs/heads/main/final/turku_df.csv'\n",
    "turku_df = pd.read_csv(turku_url)"
   ]
  },
  {
   "cell_type": "code",
   "execution_count": 3,
   "metadata": {},
   "outputs": [
    {
     "data": {
      "text/html": [
       "<div>\n",
       "<style scoped>\n",
       "    .dataframe tbody tr th:only-of-type {\n",
       "        vertical-align: middle;\n",
       "    }\n",
       "\n",
       "    .dataframe tbody tr th {\n",
       "        vertical-align: top;\n",
       "    }\n",
       "\n",
       "    .dataframe thead th {\n",
       "        text-align: right;\n",
       "    }\n",
       "</style>\n",
       "<table border=\"1\" class=\"dataframe\">\n",
       "  <thead>\n",
       "    <tr style=\"text-align: right;\">\n",
       "      <th></th>\n",
       "      <th>Observation station</th>\n",
       "      <th>Year</th>\n",
       "      <th>Month</th>\n",
       "      <th>Day</th>\n",
       "      <th>Date</th>\n",
       "      <th>Snow depth mean [cm]</th>\n",
       "      <th>Average temperature [°C]</th>\n",
       "      <th>cloud_code</th>\n",
       "      <th>Global radiation mean [W/m2]</th>\n",
       "    </tr>\n",
       "  </thead>\n",
       "  <tbody>\n",
       "    <tr>\n",
       "      <th>0</th>\n",
       "      <td>Turku airport</td>\n",
       "      <td>2004</td>\n",
       "      <td>1</td>\n",
       "      <td>1</td>\n",
       "      <td>2004-01-01</td>\n",
       "      <td>10.0</td>\n",
       "      <td>-8.6</td>\n",
       "      <td>NaN</td>\n",
       "      <td>14.0</td>\n",
       "    </tr>\n",
       "    <tr>\n",
       "      <th>1</th>\n",
       "      <td>Turku airport</td>\n",
       "      <td>2004</td>\n",
       "      <td>1</td>\n",
       "      <td>2</td>\n",
       "      <td>2004-01-02</td>\n",
       "      <td>10.0</td>\n",
       "      <td>-15.2</td>\n",
       "      <td>NaN</td>\n",
       "      <td>14.2</td>\n",
       "    </tr>\n",
       "    <tr>\n",
       "      <th>2</th>\n",
       "      <td>Turku airport</td>\n",
       "      <td>2004</td>\n",
       "      <td>1</td>\n",
       "      <td>3</td>\n",
       "      <td>2004-01-03</td>\n",
       "      <td>10.0</td>\n",
       "      <td>-10.9</td>\n",
       "      <td>NaN</td>\n",
       "      <td>11.0</td>\n",
       "    </tr>\n",
       "    <tr>\n",
       "      <th>3</th>\n",
       "      <td>Turku airport</td>\n",
       "      <td>2004</td>\n",
       "      <td>1</td>\n",
       "      <td>4</td>\n",
       "      <td>2004-01-04</td>\n",
       "      <td>10.0</td>\n",
       "      <td>-2.7</td>\n",
       "      <td>NaN</td>\n",
       "      <td>5.2</td>\n",
       "    </tr>\n",
       "    <tr>\n",
       "      <th>4</th>\n",
       "      <td>Turku airport</td>\n",
       "      <td>2004</td>\n",
       "      <td>1</td>\n",
       "      <td>5</td>\n",
       "      <td>2004-01-05</td>\n",
       "      <td>18.0</td>\n",
       "      <td>-4.5</td>\n",
       "      <td>NaN</td>\n",
       "      <td>6.1</td>\n",
       "    </tr>\n",
       "  </tbody>\n",
       "</table>\n",
       "</div>"
      ],
      "text/plain": [
       "  Observation station  Year  Month  Day        Date  Snow depth mean [cm]  \\\n",
       "0       Turku airport  2004      1    1  2004-01-01                  10.0   \n",
       "1       Turku airport  2004      1    2  2004-01-02                  10.0   \n",
       "2       Turku airport  2004      1    3  2004-01-03                  10.0   \n",
       "3       Turku airport  2004      1    4  2004-01-04                  10.0   \n",
       "4       Turku airport  2004      1    5  2004-01-05                  18.0   \n",
       "\n",
       "   Average temperature [°C]  cloud_code  Global radiation mean [W/m2]  \n",
       "0                      -8.6         NaN                          14.0  \n",
       "1                     -15.2         NaN                          14.2  \n",
       "2                     -10.9         NaN                          11.0  \n",
       "3                      -2.7         NaN                           5.2  \n",
       "4                      -4.5         NaN                           6.1  "
      ]
     },
     "execution_count": 3,
     "metadata": {},
     "output_type": "execute_result"
    }
   ],
   "source": [
    "turku_df.head()"
   ]
  },
  {
   "cell_type": "code",
   "execution_count": 4,
   "metadata": {},
   "outputs": [],
   "source": [
    "turku_df[\"Date\"] = pd.to_datetime(turku_df[\"Date\"])\n",
    "turku_df['day_of_year'] = turku_df['Date'].dt.dayofyear\n",
    "turku_df.drop(columns=[\"Observation station\"], inplace=True)"
   ]
  },
  {
   "cell_type": "code",
   "execution_count": 5,
   "metadata": {},
   "outputs": [],
   "source": [
    "turku_df[\"Average temperature [°C]\"] = turku_df[\"Average temperature [°C]\"].interpolate()\n",
    "turku_df[\"Global radiation mean [W/m2]\"] = turku_df[\"Global radiation mean [W/m2]\"].interpolate()\n",
    "turku_df.loc[turku_df['cloud_code'].isnull(),'cloud_code'] = 9\n",
    "turku_df.loc[turku_df['Snow depth mean [cm]'].isnull(),'Snow depth mean [cm]'] = 0"
   ]
  },
  {
   "cell_type": "code",
   "execution_count": 6,
   "metadata": {},
   "outputs": [],
   "source": [
    "X = turku_df[[\"Average temperature [°C]\", \"Global radiation mean [W/m2]\", \"day_of_year\", \"cloud_code\"]]\n",
    "y = turku_df[\"Snow depth mean [cm]\"]"
   ]
  },
  {
   "cell_type": "code",
   "execution_count": 25,
   "metadata": {},
   "outputs": [],
   "source": [
    "loaded_model = joblib.load('snow_depth_predictor.pkl')"
   ]
  },
  {
   "cell_type": "code",
   "execution_count": 26,
   "metadata": {},
   "outputs": [],
   "source": [
    "predictions = loaded_model.predict(X)"
   ]
  },
  {
   "cell_type": "code",
   "execution_count": 28,
   "metadata": {},
   "outputs": [
    {
     "data": {
      "text/plain": [
       "array([29.80590416, 34.83682229, 31.4834679 , ...,  1.5088433 ,\n",
       "        2.8198444 , 25.89467933], shape=(7673,))"
      ]
     },
     "execution_count": 28,
     "metadata": {},
     "output_type": "execute_result"
    }
   ],
   "source": [
    "predictions"
   ]
  },
  {
   "cell_type": "code",
   "execution_count": null,
   "metadata": {},
   "outputs": [],
   "source": [
    "y2024 = predictions[-365::10]\n",
    "x2024 = X[\"day_of_year\"][-365::10]\n",
    "y2004 = predictions[:365:10]\n",
    "x2004 = X[\"day_of_year\"][:365:10]\n"
   ]
  },
  {
   "cell_type": "code",
   "execution_count": 49,
   "metadata": {},
   "outputs": [
    {
     "data": {
      "image/png": "[encoded data removed]",
      "text/plain": [
       "<Figure size 640x480 with 1 Axes>"
      ]
     },
     "metadata": {},
     "output_type": "display_data"
    }
   ],
   "source": [
    "\n",
    "\n",
    "plt.plot(x2024, y2024, label= \"2024\")\n",
    "plt.plot(x2004, y2004, label= \"2004\")\n",
    "plt.title('Turku')\n",
    "plt.legend()\n",
    "plt.axhline(y=0, color=\"red\")\n",
    "plt.ylabel('Snow depth mean [cm]')\n",
    "plt.xlabel('Day of the year (2024)')\n",
    "plt.show()"
   ]
  }
 ],
 "metadata": {
  "kernelspec": {
   "display_name": ".venv",
   "language": "python",
   "name": "python3"
  },
  "language_info": {
   "codemirror_mode": {
    "name": "ipython",
    "version": 3
   },
   "file_extension": ".py",
   "mimetype": "text/x-python",
   "name": "python",
   "nbconvert_exporter": "python",
   "pygments_lexer": "ipython3",
   "version": "3.13.1"
  }
 },
 "nbformat": 4,
 "nbformat_minor": 2
}
