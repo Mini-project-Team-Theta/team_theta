{
 "cells": [
  {
   "cell_type": "code",
   "execution_count": 61,
   "metadata": {},
   "outputs": [],
   "source": [
    "import pandas as pd\n",
    "import numpy as np\n",
    "import matplotlib.pyplot as plt\n",
    "import seaborn as sns\n",
    "import joblib\n",
    "from sklearn.model_selection import train_test_split\n",
    "from sklearn.preprocessing import PolynomialFeatures\n",
    "from sklearn.linear_model import LinearRegression\n",
    "from sklearn.metrics import mean_squared_error, r2_score\n",
    "from sklearn import linear_model"
   ]
  },
  {
   "cell_type": "code",
   "execution_count": 62,
   "metadata": {},
   "outputs": [
    {
     "data": {
      "text/html": [
       "<div>\n",
       "<style scoped>\n",
       "    .dataframe tbody tr th:only-of-type {\n",
       "        vertical-align: middle;\n",
       "    }\n",
       "\n",
       "    .dataframe tbody tr th {\n",
       "        vertical-align: top;\n",
       "    }\n",
       "\n",
       "    .dataframe thead th {\n",
       "        text-align: right;\n",
       "    }\n",
       "</style>\n",
       "<table border=\"1\" class=\"dataframe\">\n",
       "  <thead>\n",
       "    <tr style=\"text-align: right;\">\n",
       "      <th></th>\n",
       "      <th>Observation station</th>\n",
       "      <th>Year</th>\n",
       "      <th>Month</th>\n",
       "      <th>Day</th>\n",
       "      <th>Date</th>\n",
       "      <th>Snow depth mean [cm]</th>\n",
       "      <th>Average temperature [°C]</th>\n",
       "      <th>cloud_code</th>\n",
       "      <th>Global radiation mean [W/m2]</th>\n",
       "    </tr>\n",
       "  </thead>\n",
       "  <tbody>\n",
       "    <tr>\n",
       "      <th>0</th>\n",
       "      <td>Kuusamo Kiutak?ng?s</td>\n",
       "      <td>2004</td>\n",
       "      <td>1</td>\n",
       "      <td>1</td>\n",
       "      <td>2004-01-01</td>\n",
       "      <td>32.0</td>\n",
       "      <td>-28.6</td>\n",
       "      <td>NaN</td>\n",
       "      <td>0.2</td>\n",
       "    </tr>\n",
       "    <tr>\n",
       "      <th>1</th>\n",
       "      <td>Kuusamo Kiutak?ng?s</td>\n",
       "      <td>2004</td>\n",
       "      <td>1</td>\n",
       "      <td>2</td>\n",
       "      <td>2004-01-02</td>\n",
       "      <td>32.1</td>\n",
       "      <td>-20.6</td>\n",
       "      <td>NaN</td>\n",
       "      <td>-0.2</td>\n",
       "    </tr>\n",
       "    <tr>\n",
       "      <th>2</th>\n",
       "      <td>Kuusamo Kiutak?ng?s</td>\n",
       "      <td>2004</td>\n",
       "      <td>1</td>\n",
       "      <td>3</td>\n",
       "      <td>2004-01-03</td>\n",
       "      <td>31.0</td>\n",
       "      <td>-21.9</td>\n",
       "      <td>NaN</td>\n",
       "      <td>0.3</td>\n",
       "    </tr>\n",
       "    <tr>\n",
       "      <th>3</th>\n",
       "      <td>Kuusamo Kiutak?ng?s</td>\n",
       "      <td>2004</td>\n",
       "      <td>1</td>\n",
       "      <td>4</td>\n",
       "      <td>2004-01-04</td>\n",
       "      <td>30.7</td>\n",
       "      <td>-14.7</td>\n",
       "      <td>NaN</td>\n",
       "      <td>-0.4</td>\n",
       "    </tr>\n",
       "    <tr>\n",
       "      <th>4</th>\n",
       "      <td>Kuusamo Kiutak?ng?s</td>\n",
       "      <td>2004</td>\n",
       "      <td>1</td>\n",
       "      <td>5</td>\n",
       "      <td>2004-01-05</td>\n",
       "      <td>31.8</td>\n",
       "      <td>-14.2</td>\n",
       "      <td>NaN</td>\n",
       "      <td>-1.0</td>\n",
       "    </tr>\n",
       "  </tbody>\n",
       "</table>\n",
       "</div>"
      ],
      "text/plain": [
       "   Observation station  Year  Month  Day        Date  Snow depth mean [cm]  \\\n",
       "0  Kuusamo Kiutak?ng?s  2004      1    1  2004-01-01                  32.0   \n",
       "1  Kuusamo Kiutak?ng?s  2004      1    2  2004-01-02                  32.1   \n",
       "2  Kuusamo Kiutak?ng?s  2004      1    3  2004-01-03                  31.0   \n",
       "3  Kuusamo Kiutak?ng?s  2004      1    4  2004-01-04                  30.7   \n",
       "4  Kuusamo Kiutak?ng?s  2004      1    5  2004-01-05                  31.8   \n",
       "\n",
       "   Average temperature [°C]  cloud_code  Global radiation mean [W/m2]  \n",
       "0                     -28.6         NaN                           0.2  \n",
       "1                     -20.6         NaN                          -0.2  \n",
       "2                     -21.9         NaN                           0.3  \n",
       "3                     -14.7         NaN                          -0.4  \n",
       "4                     -14.2         NaN                          -1.0  "
      ]
     },
     "execution_count": 62,
     "metadata": {},
     "output_type": "execute_result"
    }
   ],
   "source": [
    "kuusamo_url = 'https://raw.githubusercontent.com/Mini-project-Team-Theta/team_theta/refs/heads/main/final/kuusamo_df.csv'\n",
    "df = pd.read_csv(kuusamo_url)\n",
    "df.head()"
   ]
  },
  {
   "cell_type": "code",
   "execution_count": 63,
   "metadata": {},
   "outputs": [],
   "source": [
    "df[\"Date\"] = pd.to_datetime(df[\"Date\"])\n",
    "df['day_of_year'] = df['Date'].dt.dayofyear\n",
    "df.drop(columns=[\"Observation station\"], inplace=True)"
   ]
  },
  {
   "cell_type": "code",
   "execution_count": 64,
   "metadata": {},
   "outputs": [],
   "source": [
    "df[\"Average temperature [°C]\"] = df[\"Average temperature [°C]\"].interpolate()\n",
    "df[\"Global radiation mean [W/m2]\"] = df[\"Global radiation mean [W/m2]\"].interpolate()\n",
    "df.loc[df['cloud_code'].isnull(),'cloud_code'] = 9\n",
    "df.loc[df['Snow depth mean [cm]'].isnull(),'Snow depth mean [cm]'] = 0"
   ]
  },
  {
   "cell_type": "code",
   "execution_count": 65,
   "metadata": {},
   "outputs": [],
   "source": [
    "X = df[[\"Average temperature [°C]\", \"Global radiation mean [W/m2]\", \"day_of_year\", \"cloud_code\"]]\n",
    "y = df[\"Snow depth mean [cm]\"]"
   ]
  },
  {
   "cell_type": "code",
   "execution_count": 66,
   "metadata": {},
   "outputs": [],
   "source": [
    "loaded_model = joblib.load('isosyote_snow_depth_predictor.pkl')"
   ]
  },
  {
   "cell_type": "code",
   "execution_count": 67,
   "metadata": {},
   "outputs": [],
   "source": [
    "predictions = loaded_model.predict(X)"
   ]
  },
  {
   "cell_type": "code",
   "execution_count": 68,
   "metadata": {},
   "outputs": [
    {
     "data": {
      "text/plain": [
       "array([87.41125926, 77.59785276, 79.01119643, ...,  1.22261108,\n",
       "        4.50959092,  1.40348205], shape=(7671,))"
      ]
     },
     "execution_count": 68,
     "metadata": {},
     "output_type": "execute_result"
    }
   ],
   "source": [
    "predictions"
   ]
  },
  {
   "cell_type": "code",
   "execution_count": 69,
   "metadata": {},
   "outputs": [],
   "source": [
    "y2024 = predictions[-365::10]\n",
    "x2024 = X[\"day_of_year\"][-365::10]\n",
    "y2004 = predictions[:365:10]\n",
    "x2004 = X[\"day_of_year\"][:365:10]"
   ]
  },
  {
   "cell_type": "code",
   "execution_count": 70,
   "metadata": {},
   "outputs": [
    {
     "data": {
      "image/png": "[encoded data removed]",
      "text/plain": [
       "<Figure size 640x480 with 1 Axes>"
      ]
     },
     "metadata": {},
     "output_type": "display_data"
    }
   ],
   "source": [
    "plt.plot(x2024, y2024, label= \"2024\")\n",
    "plt.plot(x2004, y2004, label= \"2004\")\n",
    "plt.title('Kuusamo')\n",
    "plt.legend()\n",
    "plt.axhline(y=0, color=\"red\")\n",
    "plt.ylabel('Snow depth mean [cm]')\n",
    "plt.xlabel('Day of the year (2024)')\n",
    "plt.show()"
   ]
  },
  {
   "cell_type": "code",
   "execution_count": 71,
   "metadata": {},
   "outputs": [],
   "source": [
    "#X_train, X_test, y_train, y_test = train_test_split(X, y, test_size=0.2, random_state=42)"
   ]
  },
  {
   "cell_type": "code",
   "execution_count": 72,
   "metadata": {},
   "outputs": [],
   "source": [
    "#model = LinearRegression()\n",
    "#model.fit(X_train, y_train)"
   ]
  },
  {
   "cell_type": "code",
   "execution_count": 73,
   "metadata": {},
   "outputs": [],
   "source": [
    "#y_pred = model.predict(X_test)"
   ]
  },
  {
   "cell_type": "code",
   "execution_count": 74,
   "metadata": {},
   "outputs": [],
   "source": [
    "#mymodel = np.poly1d(np.polyfit(X_train[\"day_of_year\"], y_train, 3))\n",
    "\n",
    "#myline = np.linspace(1, 366, 100)\n",
    "\n",
    "#plt.scatter(X_test[\"day_of_year\"], y_test)\n",
    "#plt.plot(myline, mymodel(myline), color='red')\n",
    "#plt.xlabel(\"Days in a year\")\n",
    "#plt.ylabel(\"Snow depth\")\n",
    "#plt.title(\"Snow depth in Kuusamo\")\n",
    "#plt.show()"
   ]
  },
  {
   "cell_type": "code",
   "execution_count": 75,
   "metadata": {},
   "outputs": [],
   "source": [
    "#snowdept = mymodel(2)\n",
    "#print(snowdept)"
   ]
  },
  {
   "cell_type": "code",
   "execution_count": 76,
   "metadata": {},
   "outputs": [],
   "source": [
    "#corr_matrix = df.corr()"
   ]
  },
  {
   "cell_type": "code",
   "execution_count": 77,
   "metadata": {},
   "outputs": [],
   "source": [
    "#plt.figure(figsize=(8,6)) \n",
    "#sns.heatmap(corr_matrix, annot=True, cmap=\"coolwarm\", fmt=\".2f\", linewidths=0.5)\n",
    "\n",
    "#plt.show()"
   ]
  }
 ],
 "metadata": {
  "kernelspec": {
   "display_name": "venv",
   "language": "python",
   "name": "python3"
  },
  "language_info": {
   "codemirror_mode": {
    "name": "ipython",
    "version": 3
   },
   "file_extension": ".py",
   "mimetype": "text/x-python",
   "name": "python",
   "nbconvert_exporter": "python",
   "pygments_lexer": "ipython3",
   "version": "3.13.1"
  }
 },
 "nbformat": 4,
 "nbformat_minor": 2
}
