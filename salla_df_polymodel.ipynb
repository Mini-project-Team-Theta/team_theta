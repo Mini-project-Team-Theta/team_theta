{
 "cells": [
  {
   "cell_type": "code",
   "execution_count": 33,
   "metadata": {},
   "outputs": [],
   "source": [
    "import pandas as pd\n",
    "import numpy as np\n",
    "import matplotlib.pyplot as plt\n",
    "import seaborn as sns\n",
    "import joblib\n",
    "from sklearn.model_selection import train_test_split\n",
    "from sklearn.preprocessing import PolynomialFeatures\n",
    "from sklearn.linear_model import LinearRegression\n",
    "from sklearn.metrics import mean_squared_error, r2_score\n",
    "from sklearn import linear_model"
   ]
  },
  {
   "cell_type": "code",
   "execution_count": 34,
   "metadata": {},
   "outputs": [
    {
     "data": {
      "text/html": [
       "<div>\n",
       "<style scoped>\n",
       "    .dataframe tbody tr th:only-of-type {\n",
       "        vertical-align: middle;\n",
       "    }\n",
       "\n",
       "    .dataframe tbody tr th {\n",
       "        vertical-align: top;\n",
       "    }\n",
       "\n",
       "    .dataframe thead th {\n",
       "        text-align: right;\n",
       "    }\n",
       "</style>\n",
       "<table border=\"1\" class=\"dataframe\">\n",
       "  <thead>\n",
       "    <tr style=\"text-align: right;\">\n",
       "      <th></th>\n",
       "      <th>Observation station</th>\n",
       "      <th>Year</th>\n",
       "      <th>Month</th>\n",
       "      <th>Day</th>\n",
       "      <th>Date</th>\n",
       "      <th>Snow depth mean [cm]</th>\n",
       "      <th>Average temperature [°C]</th>\n",
       "      <th>cloud_code</th>\n",
       "      <th>Global radiation mean [W/m2]</th>\n",
       "    </tr>\n",
       "  </thead>\n",
       "  <tbody>\n",
       "    <tr>\n",
       "      <th>0</th>\n",
       "      <td>Salla parish</td>\n",
       "      <td>2004</td>\n",
       "      <td>1</td>\n",
       "      <td>1</td>\n",
       "      <td>2004-01-01</td>\n",
       "      <td>33.0</td>\n",
       "      <td>-25.7</td>\n",
       "      <td>8.0</td>\n",
       "      <td>0.2</td>\n",
       "    </tr>\n",
       "    <tr>\n",
       "      <th>1</th>\n",
       "      <td>Salla parish</td>\n",
       "      <td>2004</td>\n",
       "      <td>1</td>\n",
       "      <td>2</td>\n",
       "      <td>2004-01-02</td>\n",
       "      <td>35.0</td>\n",
       "      <td>-16.2</td>\n",
       "      <td>7.0</td>\n",
       "      <td>-0.2</td>\n",
       "    </tr>\n",
       "    <tr>\n",
       "      <th>2</th>\n",
       "      <td>Salla parish</td>\n",
       "      <td>2004</td>\n",
       "      <td>1</td>\n",
       "      <td>3</td>\n",
       "      <td>2004-01-03</td>\n",
       "      <td>35.0</td>\n",
       "      <td>-19.2</td>\n",
       "      <td>5.0</td>\n",
       "      <td>0.3</td>\n",
       "    </tr>\n",
       "    <tr>\n",
       "      <th>3</th>\n",
       "      <td>Salla parish</td>\n",
       "      <td>2004</td>\n",
       "      <td>1</td>\n",
       "      <td>4</td>\n",
       "      <td>2004-01-04</td>\n",
       "      <td>35.0</td>\n",
       "      <td>-14.6</td>\n",
       "      <td>8.0</td>\n",
       "      <td>-0.4</td>\n",
       "    </tr>\n",
       "    <tr>\n",
       "      <th>4</th>\n",
       "      <td>Salla parish</td>\n",
       "      <td>2004</td>\n",
       "      <td>1</td>\n",
       "      <td>5</td>\n",
       "      <td>2004-01-05</td>\n",
       "      <td>35.0</td>\n",
       "      <td>-13.7</td>\n",
       "      <td>7.0</td>\n",
       "      <td>-1.0</td>\n",
       "    </tr>\n",
       "  </tbody>\n",
       "</table>\n",
       "</div>"
      ],
      "text/plain": [
       "  Observation station  Year  Month  Day        Date  Snow depth mean [cm]  \\\n",
       "0        Salla parish  2004      1    1  2004-01-01                  33.0   \n",
       "1        Salla parish  2004      1    2  2004-01-02                  35.0   \n",
       "2        Salla parish  2004      1    3  2004-01-03                  35.0   \n",
       "3        Salla parish  2004      1    4  2004-01-04                  35.0   \n",
       "4        Salla parish  2004      1    5  2004-01-05                  35.0   \n",
       "\n",
       "   Average temperature [°C]  cloud_code  Global radiation mean [W/m2]  \n",
       "0                     -25.7         8.0                           0.2  \n",
       "1                     -16.2         7.0                          -0.2  \n",
       "2                     -19.2         5.0                           0.3  \n",
       "3                     -14.6         8.0                          -0.4  \n",
       "4                     -13.7         7.0                          -1.0  "
      ]
     },
     "execution_count": 34,
     "metadata": {},
     "output_type": "execute_result"
    }
   ],
   "source": [
    "salla_url = (\"https://raw.githubusercontent.com/Mini-project-Team-Theta/team_theta/refs/heads/main/final/salla_df.csv\")\n",
    "df = pd.read_csv(salla_url)\n",
    "df.head()"
   ]
  },
  {
   "cell_type": "code",
   "execution_count": 35,
   "metadata": {},
   "outputs": [
    {
     "data": {
      "text/html": [
       "<div>\n",
       "<style scoped>\n",
       "    .dataframe tbody tr th:only-of-type {\n",
       "        vertical-align: middle;\n",
       "    }\n",
       "\n",
       "    .dataframe tbody tr th {\n",
       "        vertical-align: top;\n",
       "    }\n",
       "\n",
       "    .dataframe thead th {\n",
       "        text-align: right;\n",
       "    }\n",
       "</style>\n",
       "<table border=\"1\" class=\"dataframe\">\n",
       "  <thead>\n",
       "    <tr style=\"text-align: right;\">\n",
       "      <th></th>\n",
       "      <th>Year</th>\n",
       "      <th>Month</th>\n",
       "      <th>Day</th>\n",
       "      <th>Date</th>\n",
       "      <th>Snow depth mean [cm]</th>\n",
       "      <th>Average temperature [°C]</th>\n",
       "      <th>cloud_code</th>\n",
       "      <th>Global radiation mean [W/m2]</th>\n",
       "      <th>day_of_year</th>\n",
       "    </tr>\n",
       "  </thead>\n",
       "  <tbody>\n",
       "    <tr>\n",
       "      <th>0</th>\n",
       "      <td>2004</td>\n",
       "      <td>1</td>\n",
       "      <td>1</td>\n",
       "      <td>2004-01-01</td>\n",
       "      <td>33.0</td>\n",
       "      <td>-25.7</td>\n",
       "      <td>8.0</td>\n",
       "      <td>0.2</td>\n",
       "      <td>1</td>\n",
       "    </tr>\n",
       "    <tr>\n",
       "      <th>1</th>\n",
       "      <td>2004</td>\n",
       "      <td>1</td>\n",
       "      <td>2</td>\n",
       "      <td>2004-01-02</td>\n",
       "      <td>35.0</td>\n",
       "      <td>-16.2</td>\n",
       "      <td>7.0</td>\n",
       "      <td>-0.2</td>\n",
       "      <td>2</td>\n",
       "    </tr>\n",
       "    <tr>\n",
       "      <th>2</th>\n",
       "      <td>2004</td>\n",
       "      <td>1</td>\n",
       "      <td>3</td>\n",
       "      <td>2004-01-03</td>\n",
       "      <td>35.0</td>\n",
       "      <td>-19.2</td>\n",
       "      <td>5.0</td>\n",
       "      <td>0.3</td>\n",
       "      <td>3</td>\n",
       "    </tr>\n",
       "    <tr>\n",
       "      <th>3</th>\n",
       "      <td>2004</td>\n",
       "      <td>1</td>\n",
       "      <td>4</td>\n",
       "      <td>2004-01-04</td>\n",
       "      <td>35.0</td>\n",
       "      <td>-14.6</td>\n",
       "      <td>8.0</td>\n",
       "      <td>-0.4</td>\n",
       "      <td>4</td>\n",
       "    </tr>\n",
       "    <tr>\n",
       "      <th>4</th>\n",
       "      <td>2004</td>\n",
       "      <td>1</td>\n",
       "      <td>5</td>\n",
       "      <td>2004-01-05</td>\n",
       "      <td>35.0</td>\n",
       "      <td>-13.7</td>\n",
       "      <td>7.0</td>\n",
       "      <td>-1.0</td>\n",
       "      <td>5</td>\n",
       "    </tr>\n",
       "  </tbody>\n",
       "</table>\n",
       "</div>"
      ],
      "text/plain": [
       "   Year  Month  Day       Date  Snow depth mean [cm]  \\\n",
       "0  2004      1    1 2004-01-01                  33.0   \n",
       "1  2004      1    2 2004-01-02                  35.0   \n",
       "2  2004      1    3 2004-01-03                  35.0   \n",
       "3  2004      1    4 2004-01-04                  35.0   \n",
       "4  2004      1    5 2004-01-05                  35.0   \n",
       "\n",
       "   Average temperature [°C]  cloud_code  Global radiation mean [W/m2]  \\\n",
       "0                     -25.7         8.0                           0.2   \n",
       "1                     -16.2         7.0                          -0.2   \n",
       "2                     -19.2         5.0                           0.3   \n",
       "3                     -14.6         8.0                          -0.4   \n",
       "4                     -13.7         7.0                          -1.0   \n",
       "\n",
       "   day_of_year  \n",
       "0            1  \n",
       "1            2  \n",
       "2            3  \n",
       "3            4  \n",
       "4            5  "
      ]
     },
     "execution_count": 35,
     "metadata": {},
     "output_type": "execute_result"
    }
   ],
   "source": [
    "df[\"Date\"] = pd.to_datetime(df[\"Date\"])\n",
    "df['day_of_year'] = df['Date'].dt.dayofyear\n",
    "df.drop(columns=[\"Observation station\"], inplace=True)\n",
    "df.head()"
   ]
  },
  {
   "cell_type": "code",
   "execution_count": 36,
   "metadata": {},
   "outputs": [],
   "source": [
    "df[\"Average temperature [°C]\"] = df[\"Average temperature [°C]\"].interpolate()\n",
    "df[\"Global radiation mean [W/m2]\"] = df[\"Global radiation mean [W/m2]\"].interpolate()\n",
    "df.loc[df['cloud_code'].isnull(),'cloud_code'] = 9\n",
    "df.loc[df['Snow depth mean [cm]'].isnull(),'Snow depth mean [cm]'] = 0"
   ]
  },
  {
   "cell_type": "code",
   "execution_count": 37,
   "metadata": {},
   "outputs": [],
   "source": [
    "X = df[[\"Average temperature [°C]\", \"Global radiation mean [W/m2]\", \"day_of_year\", \"cloud_code\"]]\n",
    "y = df[\"Snow depth mean [cm]\"]"
   ]
  },
  {
   "cell_type": "code",
   "execution_count": 38,
   "metadata": {},
   "outputs": [],
   "source": [
    "loaded_model = joblib.load('pyha_snow_depth_predictor.pkl')"
   ]
  },
  {
   "cell_type": "code",
   "execution_count": 39,
   "metadata": {},
   "outputs": [],
   "source": [
    "predictions = loaded_model.predict(X)"
   ]
  },
  {
   "cell_type": "code",
   "execution_count": 40,
   "metadata": {},
   "outputs": [
    {
     "data": {
      "text/plain": [
       "array([92.83741163, 76.92400535, 81.77354013, ...,  4.36239517,\n",
       "       11.04219797,  5.42409421], shape=(7563,))"
      ]
     },
     "execution_count": 40,
     "metadata": {},
     "output_type": "execute_result"
    }
   ],
   "source": [
    "predictions"
   ]
  },
  {
   "cell_type": "code",
   "execution_count": 41,
   "metadata": {},
   "outputs": [],
   "source": [
    "y2024 = predictions[-365::10]\n",
    "x2024 = X[\"day_of_year\"][-365::10]\n",
    "y2004 = predictions[:365:10]\n",
    "x2004 = X[\"day_of_year\"][:365:10]"
   ]
  },
  {
   "cell_type": "code",
   "execution_count": 43,
   "metadata": {},
   "outputs": [
    {
     "data": {
      "image/png": "[encoded data removed]",
      "text/plain": [
       "<Figure size 640x480 with 1 Axes>"
      ]
     },
     "metadata": {},
     "output_type": "display_data"
    }
   ],
   "source": [
    "plt.plot(x2024, y2024, label= \"2024\")\n",
    "plt.plot(x2004, y2004, label= \"2004\")\n",
    "plt.title('Salla')\n",
    "plt.legend()\n",
    "plt.axhline(y=0, color=\"red\")\n",
    "plt.ylabel('Snow depth mean [cm]')\n",
    "plt.xlabel('Day of the year (2024)')\n",
    "plt.show()"
   ]
  }
 ],
 "metadata": {
  "kernelspec": {
   "display_name": "venv",
   "language": "python",
   "name": "python3"
  },
  "language_info": {
   "codemirror_mode": {
    "name": "ipython",
    "version": 3
   },
   "file_extension": ".py",
   "mimetype": "text/x-python",
   "name": "python",
   "nbconvert_exporter": "python",
   "pygments_lexer": "ipython3",
   "version": "3.13.1"
  }
 },
 "nbformat": 4,
 "nbformat_minor": 2
}
